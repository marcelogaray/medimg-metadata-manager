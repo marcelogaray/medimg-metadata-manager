{
 "cells": [
  {
   "cell_type": "code",
   "execution_count": null,
   "id": "fe801dfd",
   "metadata": {},
   "outputs": [],
   "source": [
    "# Verificar e instalar dependencias necesarias\n",
    "import subprocess\n",
    "import sys\n",
    "\n",
    "def verificar_e_instalar_dependencias():\n",
    "    \"\"\"Verificar e instalar dependencias necesarias para el notebook.\"\"\"\n",
    "    dependencias = [\n",
    "        'opencv-python',\n",
    "        'numpy', \n",
    "        'pandas',\n",
    "        'nibabel',\n",
    "        'pydicom',\n",
    "        'requests'\n",
    "    ]\n",
    "    \n",
    "    dependencias_instaladas = []\n",
    "    dependencias_faltantes = []\n",
    "    \n",
    "    print(\"Verificando dependencias...\")\n",
    "    \n",
    "    for dep in dependencias:\n",
    "        try:\n",
    "            __import__(dep.replace('-', '_') if '-' in dep else dep)\n",
    "            dependencias_instaladas.append(dep)\n",
    "            print(f\"+ {dep}: Disponible\")\n",
    "        except ImportError:\n",
    "            dependencias_faltantes.append(dep)\n",
    "            print(f\"- {dep}: Faltante\")\n",
    "    \n",
    "    if dependencias_faltantes:\n",
    "        print(f\"\\nInstalando dependencias faltantes: {', '.join(dependencias_faltantes)}\")\n",
    "        for dep in dependencias_faltantes:\n",
    "            try:\n",
    "                subprocess.check_call([sys.executable, \"-m\", \"pip\", \"install\", dep])\n",
    "                print(f\"+ {dep}: Instalado exitosamente\")\n",
    "            except subprocess.CalledProcessError as e:\n",
    "                print(f\"- Error instalando {dep}: {e}\")\n",
    "    \n",
    "    print(f\"\\nResumen:\")\n",
    "    print(f\"- Dependencias verificadas: {len(dependencias)}\")\n",
    "    print(f\"- Ya disponibles: {len(dependencias_instaladas)}\")\n",
    "    print(f\"- Instaladas ahora: {len(dependencias_faltantes)}\")\n",
    "    \n",
    "    if dependencias_faltantes:\n",
    "        print(\"\\nIMPORTANTE: Puede ser necesario reiniciar el kernel para que los cambios tengan efecto.\")\n",
    "        print(\"   Ve a 'Kernel' > 'Restart' en el menú de Jupyter después de ejecutar esta celda.\")\n",
    "\n",
    "# Ejecutar verificación automáticamente\n",
    "verificar_e_instalar_dependencias()"
   ]
  },
  {
   "cell_type": "code",
   "execution_count": null,
   "id": "ee5e1d43",
   "metadata": {},
   "outputs": [],
   "source": [
    "# Verificar importación de OpenCV específicamente\n",
    "try:\n",
    "    import cv2\n",
    "    print(f\"+ OpenCV importado exitosamente\")\n",
    "    print(f\"  Versión: {cv2.__version__}\")\n",
    "    \n",
    "    # Probar funcionalidad básica\n",
    "    import numpy as np\n",
    "    test_image = np.zeros((100, 100, 3), dtype=np.uint8)\n",
    "    print(f\"  Prueba básica de creación de imagen: OK\")\n",
    "    \n",
    "    print(f\"\\nOpenCV está listo para usar!\")\n",
    "    \n",
    "except ImportError as e:\n",
    "    print(f\"- Error al importar OpenCV: {e}\")\n",
    "    print(f\"\\nSolucion sugerida:\")\n",
    "    print(f\"   1. Ejecuta la celda anterior para instalar dependencias\")\n",
    "    print(f\"   2. Ve a 'Kernel' > 'Restart' para reiniciar el kernel\")\n",
    "    print(f\"   3. Vuelve a ejecutar todas las celdas desde el inicio\")\n",
    "    \n",
    "except Exception as e:\n",
    "    print(f\"- Error inesperado con OpenCV: {e}\")\n",
    "    print(f\"   OpenCV está instalado pero puede tener problemas\")"
   ]
  },
  {
   "cell_type": "markdown",
   "id": "18067c19",
   "metadata": {},
   "source": [
    "# Sistema de Gestión de Imágenes Médicas - Trabajo Final Grupo 4\n",
    "\n",
    "Este notebook proporciona una interfaz interactiva para el Sistema de Gestión de Imágenes Médicas.\n",
    "\n",
    "## Opciones del Sistema\n",
    "\n",
    "1. Registrar Nueva Imagen\n",
    "2. Ver Imágenes Registradas  \n",
    "3. Modificar Metadatos de Imagen\n",
    "4. Eliminar Imagen\n",
    "5. Buscar Imágenes (extra)\n",
    "6. Cargar Dataset de Zenodo (extra)\n",
    "7. Salir\n",
    "\n",
    "Ejecute las celdas en orden para utilizar el sistema de manera interactiva."
   ]
  },
  {
   "cell_type": "markdown",
   "id": "66cbe910",
   "metadata": {
    "jp-MarkdownHeadingCollapsed": true
   },
   "source": [
    "## 1. Configuración Inicial\n",
    "\n",
    "Importar librerías y configurar el sistema"
   ]
  },
  {
   "cell_type": "code",
   "execution_count": 1,
   "id": "f2925724",
   "metadata": {},
   "outputs": [
    {
     "name": "stdout",
     "output_type": "stream",
     "text": [
      "Sistema inicializado correctamente\n",
      "ImageManager: 0 imágenes registradas\n",
      "DataLoader configurado\n",
      "DataValidator listo\n"
     ]
    }
   ],
   "source": [
    "# Importar librerías necesarias\n",
    "import sys\n",
    "import os\n",
    "import numpy as np\n",
    "from datetime import datetime\n",
    "from typing import Dict, List, Optional, Any\n",
    "\n",
    "# Configurar path del proyecto\n",
    "project_root = os.path.abspath('..')\n",
    "if project_root not in sys.path:\n",
    "    sys.path.insert(0, project_root)\n",
    "\n",
    "# Importar módulos del sistema\n",
    "from medical_image_manager import ImageManager, DataLoader, MedicalImage, ImageMetadata\n",
    "from medical_image_manager.utils.validators import DataValidator\n",
    "\n",
    "# Variables globales del sistema\n",
    "image_manager = None\n",
    "data_loader = None\n",
    "validator = None\n",
    "\n",
    "def inicializar_sistema():\n",
    "    \"\"\"Inicializar los componentes principales del sistema.\"\"\"\n",
    "    global image_manager, data_loader, validator\n",
    "    \n",
    "    image_manager = ImageManager(storage_path=\"../data/notebook_demo\")\n",
    "    data_loader = DataLoader(download_dir=\"../data/notebook_downloads\")\n",
    "    validator = DataValidator()\n",
    "    \n",
    "    print(\"Sistema inicializado correctamente\")\n",
    "    print(f\"ImageManager: {len(image_manager)} imágenes registradas\")\n",
    "    print(\"DataLoader configurado\")\n",
    "    print(\"DataValidator listo\")\n",
    "\n",
    "# Ejecutar inicialización\n",
    "inicializar_sistema()"
   ]
  },
  {
   "cell_type": "code",
   "execution_count": 2,
   "id": "28a80236",
   "metadata": {},
   "outputs": [
    {
     "name": "stdout",
     "output_type": "stream",
     "text": [
      "Sistema listo para trabajar con archivos de imagen reales.\n",
      "Use la función 'registrar_imagen()' para agregar imágenes desde rutas de archivos.\n"
     ]
    }
   ],
   "source": [
    "# Esta celda ya no es necesaria - el notebook ahora funciona con archivos reales\n",
    "# como en main.py, donde el usuario proporciona rutas de archivos\n",
    "\n",
    "print(\"Sistema listo para trabajar con archivos de imagen reales.\")\n",
    "print(\"Use la función 'registrar_imagen()' para agregar imágenes desde rutas de archivos.\")"
   ]
  },
  {
   "cell_type": "markdown",
   "id": "fe4606a8",
   "metadata": {},
   "source": [
    "## 2. Registrar Nueva Imagen\n",
    "\n",
    "Función para registrar una imagen médica desde archivo (igual que main.py)"
   ]
  },
  {
   "cell_type": "code",
   "execution_count": 4,
   "id": "65c7aafd",
   "metadata": {},
   "outputs": [
    {
     "name": "stdout",
     "output_type": "stream",
     "text": [
      "\n",
      "--- Registrar Nueva Imagen ---\n"
     ]
    },
    {
     "name": "stdout",
     "output_type": "stream",
     "text": [
      "Ingrese la ruta del archivo de imagen:  C:\\Users\\EYNAR\\Desktop\\MAESTRAI_IA_MOD1\\data\\test\\TestImage.jpg\n",
      "¿Agregar metadatos personalizados? (s/n):  n\n",
      "¿Cargar datos de píxeles en memoria? (s/n):  n\n"
     ]
    },
    {
     "name": "stderr",
     "output_type": "stream",
     "text": [
      "ERROR:medical_image_manager.utils.file_handler:opencv-python library not available\n"
     ]
    },
    {
     "name": "stdout",
     "output_type": "stream",
     "text": [
      "Error al registrar imagen: Standard image support requires opencv-python library\n"
     ]
    },
    {
     "name": "stdout",
     "output_type": "stream",
     "text": [
      "Imagen registrada exitosamente:\n",
      "  Archivo: chest_ct.dcm\n",
      "  ID: 55b121ac-2dd1-443a-a02e-77bb9042f9da\n",
      "  Modalidad: CT\n",
      "  Dimensiones: (512, 512, 100)\n"
     ]
    },
    {
     "name": "stdout",
     "output_type": "stream",
     "text": [
      "Seleccione el número de archivo a registrar (1-3):  1\n"
     ]
    },
    {
     "name": "stdout",
     "output_type": "stream",
     "text": [
      "Imagen registrada exitosamente:\n",
      "  Archivo: brain_mri_t1.nii\n",
      "  ID: 7e3d4a43-058d-4ca9-828a-7b602c46c899\n",
      "  Modalidad: MRI\n",
      "  Dimensiones: (128, 128, 64)\n"
     ]
    }
   ],
   "source": [
    "def create_metadata_interactive():\n",
    "    \"\"\"Crear metadatos de forma interactiva.\"\"\"\n",
    "    metadata = {}\n",
    "    \n",
    "    print(\"\\n--- Agregar Metadatos Personalizados ---\")\n",
    "    while True:\n",
    "        key = input(\"Ingrese clave de metadato (Enter para terminar): \").strip()\n",
    "        if not key:\n",
    "            break\n",
    "        value = input(f\"Ingrese valor para '{key}': \").strip()\n",
    "        \n",
    "        # Intentar convertir a tipo apropiado\n",
    "        try:\n",
    "            if value.isdigit():\n",
    "                value = int(value)\n",
    "            elif '.' in value and value.replace('.', '').replace('-', '').isdigit():\n",
    "                value = float(value)\n",
    "        except:\n",
    "            pass\n",
    "        \n",
    "        metadata[key] = value\n",
    "    \n",
    "    return metadata if metadata else None\n",
    "\n",
    "def registrar_imagen():\n",
    "    \"\"\"Registrar una nueva imagen en el sistema (igual que main.py).\"\"\"\n",
    "    global image_manager\n",
    "    \n",
    "    print(\"\\n--- Registrar Nueva Imagen ---\")\n",
    "    \n",
    "    file_path = input(\"Ingrese la ruta del archivo de imagen: \").strip()\n",
    "    \n",
    "    if not file_path:\n",
    "        print(\"La ruta del archivo no puede estar vacía.\")\n",
    "        return\n",
    "    \n",
    "    if not os.path.exists(file_path):\n",
    "        print(f\"Archivo no encontrado: {file_path}\")\n",
    "        return\n",
    "    \n",
    "    try:\n",
    "        # Preguntar si el usuario quiere agregar metadatos\n",
    "        add_metadata = input(\"¿Agregar metadatos personalizados? (s/n): \").strip().lower() == 's'\n",
    "        \n",
    "        metadata = None\n",
    "        if add_metadata:\n",
    "            metadata = create_metadata_interactive()\n",
    "        \n",
    "        # Registrar la imagen\n",
    "        load_pixels = input(\"¿Cargar datos de píxeles en memoria? (s/n): \").strip().lower() == 's'\n",
    "        image_id = image_manager.register_image(\n",
    "            file_path=file_path,\n",
    "            metadata=metadata,\n",
    "            load_pixel_data=load_pixels\n",
    "        )\n",
    "        \n",
    "        print(f\"\\n¡Imagen registrada exitosamente!\")\n",
    "        print(f\"ID de Imagen: {image_id}\")\n",
    "        \n",
    "    except Exception as e:\n",
    "        print(f\"Error al registrar imagen: {e}\")\n",
    "\n",
    "# Ejecutar función de registro\n",
    "registrar_imagen()"
   ]
  },
  {
   "cell_type": "markdown",
   "id": "2f936457",
   "metadata": {},
   "source": [
    "## 3. Listar Imágenes Registradas\n",
    "\n",
    "Mostrar todas las imágenes actualmente registradas en el sistema"
   ]
  },
  {
   "cell_type": "code",
   "execution_count": 12,
   "id": "af251f5d",
   "metadata": {},
   "outputs": [
    {
     "name": "stdout",
     "output_type": "stream",
     "text": [
      "No hay imágenes registradas en el sistema\n"
     ]
    }
   ],
   "source": [
    "def listar_imagenes():\n",
    "    \"\"\"Mostrar lista de todas las imágenes registradas.\"\"\"\n",
    "    global image_manager\n",
    "    \n",
    "    if not image_manager.images:\n",
    "        print(\"No hay imágenes registradas en el sistema\")\n",
    "        return\n",
    "    \n",
    "    print(f\"Total de imágenes registradas: {len(image_manager.images)}\")\n",
    "    print(\"-\" * 60)\n",
    "    \n",
    "    for i, (image_id, imagen) in enumerate(image_manager.images.items(), 1):\n",
    "        print(f\"{i}. Archivo: {imagen.filename}\")\n",
    "        print(f\"   ID: {image_id}\")\n",
    "        \n",
    "        # Corregir el uso de get_metadata\n",
    "        modalidad = imagen.get_metadata('modality')\n",
    "        print(f\"   Modalidad: {modalidad if modalidad else 'No especificada'}\")\n",
    "        \n",
    "        print(f\"   Formato: {imagen.format_type}\")\n",
    "        print(f\"   Tamaño: {imagen.file_size} bytes\" if imagen.file_size else \"   Tamaño: No disponible\")\n",
    "        print(f\"   Fecha creación: {imagen.creation_date.strftime('%Y-%m-%d %H:%M:%S')}\")\n",
    "        \n",
    "        if imagen.pixel_data is not None:\n",
    "            print(f\"   Dimensiones: {imagen.pixel_data.shape}\")\n",
    "        else:\n",
    "            print(\"   Dimensiones: Datos no cargados\")\n",
    "        \n",
    "        print()\n",
    "\n",
    "# Ejecutar listado de imágenes\n",
    "listar_imagenes()"
   ]
  },
  {
   "cell_type": "markdown",
   "id": "5e4f0a66",
   "metadata": {},
   "source": [
    "## 4. Buscar Imágenes\n",
    "\n",
    "Buscar imágenes por criterios específicos"
   ]
  },
  {
   "cell_type": "code",
   "execution_count": 13,
   "id": "887a34f9",
   "metadata": {},
   "outputs": [
    {
     "name": "stdout",
     "output_type": "stream",
     "text": [
      "No hay imágenes registradas para buscar\n"
     ]
    },
    {
     "name": "stdout",
     "output_type": "stream",
     "text": [
      "No se encontraron imágenes que coincidan con el criterio de búsqueda\n"
     ]
    }
   ],
   "source": [
    "def buscar_imagenes():\n",
    "    \"\"\"Buscar imágenes por diferentes criterios.\"\"\"\n",
    "    global image_manager\n",
    "    \n",
    "    if not image_manager.images:\n",
    "        print(\"No hay imágenes registradas para buscar\")\n",
    "        return\n",
    "    \n",
    "    print(\"Opciones de búsqueda:\")\n",
    "    print(\"1. Buscar por modalidad\")\n",
    "    print(\"2. Buscar por ID de paciente\")\n",
    "    print(\"3. Buscar por nombre de archivo\")\n",
    "    \n",
    "    try:\n",
    "        opcion = input(\"Seleccione opción de búsqueda (1-3): \")\n",
    "        \n",
    "        if opcion == \"1\":\n",
    "            modalidad = input(\"Ingrese modalidad (MRI, CT, etc.): \")\n",
    "            resultados = image_manager.search_images(modalidad)\n",
    "            \n",
    "        elif opcion == \"2\":\n",
    "            paciente_id = input(\"Ingrese ID de paciente: \")\n",
    "            resultados = image_manager.search_images(paciente_id)\n",
    "            \n",
    "        elif opcion == \"3\":\n",
    "            nombre_archivo = input(\"Ingrese nombre de archivo: \")\n",
    "            resultados = image_manager.search_images(nombre_archivo)\n",
    "            \n",
    "        else:\n",
    "            print(\"Opción inválida\")\n",
    "            return\n",
    "        \n",
    "        if resultados:\n",
    "            print(f\"Se encontraron {len(resultados)} resultado(s):\")\n",
    "            print(\"-\" * 40)\n",
    "            \n",
    "            for imagen in resultados:\n",
    "                print(f\"Archivo: {imagen.filename}\")\n",
    "                print(f\"ID: {imagen.image_id}\")\n",
    "                \n",
    "                # Corregir el uso de get_metadata\n",
    "                modalidad = imagen.get_metadata('modality')\n",
    "                paciente_id = imagen.get_metadata('patient_id')\n",
    "                \n",
    "                print(f\"Modalidad: {modalidad if modalidad else 'No especificada'}\")\n",
    "                print(f\"Paciente: {paciente_id if paciente_id else 'No especificado'}\")\n",
    "                print()\n",
    "        else:\n",
    "            print(\"No se encontraron imágenes que coincidan con el criterio de búsqueda\")\n",
    "            \n",
    "    except KeyboardInterrupt:\n",
    "        print(\"Búsqueda cancelada\")\n",
    "\n",
    "# Ejecutar búsqueda\n",
    "buscar_imagenes()"
   ]
  },
  {
   "cell_type": "markdown",
   "id": "e505b050",
   "metadata": {},
   "source": [
    "## 5. Ver Información de Imagen Específica\n",
    "\n",
    "Mostrar información detallada de una imagen seleccionada"
   ]
  },
  {
   "cell_type": "code",
   "execution_count": 14,
   "id": "bdf6c865",
   "metadata": {},
   "outputs": [
    {
     "name": "stdout",
     "output_type": "stream",
     "text": [
      "No hay imágenes registradas\n"
     ]
    },
    {
     "name": "stdout",
     "output_type": "stream",
     "text": [
      "\n",
      "Información detallada de: chest_ct.dcm\n",
      "==================================================\n",
      "ID de imagen: 11efb532-adb8-4e11-a75a-7497702618c8\n",
      "Nombre de archivo: chest_ct.dcm\n",
      "Formato: DICOM\n",
      "Fecha de creación: 2025-10-18 21:12:04\n",
      "Última modificación: 2025-10-18 21:12:04\n",
      "Dimensiones: (512, 512, 100)\n",
      "Tipo de datos: uint16\n",
      "Valor mínimo: 0\n",
      "Valor máximo: 65535\n",
      "Valor medio: 16608.15\n",
      "\n",
      "Metadatos:\n",
      "  modality: CT\n",
      "  body_part: CHEST\n",
      "  patient_id: PAT002\n",
      "  study_date: 2024-01-16\n",
      "  kvp: 120\n",
      "  slice_thickness: 0.625\n"
     ]
    }
   ],
   "source": [
    "def ver_informacion_imagen():\n",
    "    \"\"\"Mostrar información detallada de una imagen específica.\"\"\"\n",
    "    global image_manager\n",
    "    \n",
    "    if not image_manager.images:\n",
    "        print(\"No hay imágenes registradas\")\n",
    "        return\n",
    "    \n",
    "    print(\"Imágenes disponibles:\")\n",
    "    imagenes_lista = list(image_manager.images.items())\n",
    "    \n",
    "    for i, (image_id, imagen) in enumerate(imagenes_lista, 1):\n",
    "        print(f\"{i}. {imagen.filename} (ID: {image_id[:8]}...)\")\n",
    "    \n",
    "    try:\n",
    "        opcion = input(f\"Seleccione imagen (1-{len(imagenes_lista)}): \")\n",
    "        indice = int(opcion) - 1\n",
    "        \n",
    "        if 0 <= indice < len(imagenes_lista):\n",
    "            image_id, imagen = imagenes_lista[indice]\n",
    "            \n",
    "            print(f\"\\nInformación detallada de: {imagen.filename}\")\n",
    "            print(\"=\" * 50)\n",
    "            print(f\"ID de imagen: {image_id}\")\n",
    "            print(f\"Nombre de archivo: {imagen.filename}\")\n",
    "            print(f\"Formato: {imagen.format_type}\")\n",
    "            print(f\"Fecha de creación: {imagen.creation_date.strftime('%Y-%m-%d %H:%M:%S')}\")\n",
    "            print(f\"Última modificación: {imagen.last_modified.strftime('%Y-%m-%d %H:%M:%S')}\")\n",
    "            \n",
    "            if imagen.file_size:\n",
    "                print(f\"Tamaño de archivo: {imagen.file_size} bytes\")\n",
    "            \n",
    "            if imagen.pixel_data is not None:\n",
    "                print(f\"Dimensiones: {imagen.pixel_data.shape}\")\n",
    "                print(f\"Tipo de datos: {imagen.pixel_data.dtype}\")\n",
    "                print(f\"Valor mínimo: {np.min(imagen.pixel_data)}\")\n",
    "                print(f\"Valor máximo: {np.max(imagen.pixel_data)}\")\n",
    "                print(f\"Valor medio: {np.mean(imagen.pixel_data):.2f}\")\n",
    "            \n",
    "            print(\"\\nMetadatos:\")\n",
    "            if imagen.metadata:\n",
    "                for clave, valor in imagen.metadata.items():\n",
    "                    print(f\"  {clave}: {valor}\")\n",
    "            else:\n",
    "                print(\"  No hay metadatos disponibles\")\n",
    "                \n",
    "        else:\n",
    "            print(\"Opción inválida\")\n",
    "            \n",
    "    except (ValueError, KeyboardInterrupt):\n",
    "        print(\"Operación cancelada\")\n",
    "\n",
    "# Ejecutar visualización de información\n",
    "ver_informacion_imagen()"
   ]
  },
  {
   "cell_type": "markdown",
   "id": "175756db",
   "metadata": {},
   "source": [
    "## 6. Modificar Metadatos de Imagen\n",
    "\n",
    "Actualizar metadatos de una imagen existente"
   ]
  },
  {
   "cell_type": "code",
   "execution_count": 15,
   "id": "1580b87f",
   "metadata": {},
   "outputs": [
    {
     "name": "stdout",
     "output_type": "stream",
     "text": [
      "No hay imágenes registradas\n"
     ]
    }
   ],
   "source": [
    "def modificar_metadatos():\n",
    "    \"\"\"Modificar metadatos de una imagen existente.\"\"\"\n",
    "    global image_manager\n",
    "    \n",
    "    if not image_manager.images:\n",
    "        print(\"No hay imágenes registradas\")\n",
    "        return\n",
    "    \n",
    "    print(\"Seleccione imagen para modificar metadatos:\")\n",
    "    imagenes_lista = list(image_manager.images.items())\n",
    "    \n",
    "    for i, (image_id, imagen) in enumerate(imagenes_lista, 1):\n",
    "        print(f\"{i}. {imagen.filename}\")\n",
    "    \n",
    "    try:\n",
    "        opcion = input(f\"Seleccione imagen (1-{len(imagenes_lista)}): \")\n",
    "        indice = int(opcion) - 1\n",
    "        \n",
    "        if 0 <= indice < len(imagenes_lista):\n",
    "            image_id, imagen = imagenes_lista[indice]\n",
    "            \n",
    "            print(f\"\\nModificando metadatos de: {imagen.filename}\")\n",
    "            print(\"Metadatos actuales:\")\n",
    "            for clave, valor in imagen.metadata.items():\n",
    "                print(f\"  {clave}: {valor}\")\n",
    "            \n",
    "            print(\"\\nOpciones de modificación:\")\n",
    "            print(\"1. Agregar/Actualizar campo de metadatos\")\n",
    "            print(\"2. Eliminar campo de metadatos\")\n",
    "            \n",
    "            mod_opcion = input(\"Seleccione opción (1-2): \").strip()\n",
    "            \n",
    "            if mod_opcion == '1':\n",
    "                clave = input(\"Ingrese clave del metadato: \").strip()\n",
    "                valor = input(\"Ingrese valor del metadato: \").strip()\n",
    "                \n",
    "                # Intentar convertir a tipo apropiado\n",
    "                try:\n",
    "                    if valor.isdigit():\n",
    "                        valor = int(valor)\n",
    "                    elif '.' in valor and valor.replace('.', '').isdigit():\n",
    "                        valor = float(valor)\n",
    "                except:\n",
    "                    pass\n",
    "                \n",
    "                exito = image_manager.update_image_metadata(image_id, {clave: valor})\n",
    "                \n",
    "                if exito:\n",
    "                    print(f\"Metadato actualizado: {clave} = {valor}\")\n",
    "                else:\n",
    "                    print(\"Error al actualizar metadato\")\n",
    "            \n",
    "            elif mod_opcion == '2':\n",
    "                if imagen.metadata:\n",
    "                    print(\"\\nClaves de metadatos existentes:\")\n",
    "                    claves = list(imagen.metadata.keys())\n",
    "                    for i, clave in enumerate(claves, 1):\n",
    "                        print(f\"{i}. {clave}\")\n",
    "                    \n",
    "                    try:\n",
    "                        opcion_clave = int(input(f\"Seleccione clave a eliminar (1-{len(claves)}): \")) - 1\n",
    "                        if 0 <= opcion_clave < len(claves):\n",
    "                            clave_eliminar = claves[opcion_clave]\n",
    "                            imagen.remove_metadata(clave_eliminar)\n",
    "                            print(f\"Eliminada clave de metadato: {clave_eliminar}\")\n",
    "                        else:\n",
    "                            print(\"Número de clave inválido\")\n",
    "                    except ValueError:\n",
    "                        print(\"Por favor ingrese un número válido\")\n",
    "                else:\n",
    "                    print(\"No hay metadatos para eliminar\")\n",
    "                \n",
    "        else:\n",
    "            print(\"Opción inválida\")\n",
    "            \n",
    "    except (ValueError, KeyboardInterrupt):\n",
    "        print(\"Operación cancelada\")\n",
    "\n",
    "# Ejecutar modificación de metadatos\n",
    "modificar_metadatos()"
   ]
  },
  {
   "cell_type": "markdown",
   "id": "d463e826",
   "metadata": {},
   "source": [
    "## 7. Eliminar Imagen\n",
    "\n",
    "Eliminar una imagen del sistema"
   ]
  },
  {
   "cell_type": "code",
   "execution_count": 16,
   "id": "7ed86cd3",
   "metadata": {},
   "outputs": [
    {
     "name": "stdout",
     "output_type": "stream",
     "text": [
      "No hay imágenes registradas\n"
     ]
    }
   ],
   "source": [
    "def eliminar_imagen():\n",
    "    \"\"\"Eliminar una imagen del sistema.\"\"\"\n",
    "    global image_manager\n",
    "    \n",
    "    if not image_manager.images:\n",
    "        print(\"No hay imágenes registradas\")\n",
    "        return\n",
    "    \n",
    "    print(\"Seleccione imagen para eliminar:\")\n",
    "    imagenes_lista = list(image_manager.images.items())\n",
    "    \n",
    "    for i, (image_id, imagen) in enumerate(imagenes_lista, 1):\n",
    "        print(f\"{i}. {imagen.filename} (ID: {image_id[:8]}...)\")\n",
    "    \n",
    "    try:\n",
    "        opcion = input(f\"Seleccione imagen a eliminar (1-{len(imagenes_lista)}): \")\n",
    "        indice = int(opcion) - 1\n",
    "        \n",
    "        if 0 <= indice < len(imagenes_lista):\n",
    "            image_id, imagen = imagenes_lista[indice]\n",
    "            \n",
    "            print(f\"\\nAdvertencia: Se eliminará la imagen '{imagen.filename}'\")\n",
    "            confirmacion = input(\"¿Está seguro? (y/N): \").lower().strip()\n",
    "            \n",
    "            if confirmacion == 'y':\n",
    "                eliminada = image_manager.delete_image(image_id)\n",
    "                \n",
    "                if eliminada:\n",
    "                    print(\"Imagen eliminada exitosamente\")\n",
    "                else:\n",
    "                    print(\"Error al eliminar la imagen\")\n",
    "            else:\n",
    "                print(\"Eliminación cancelada\")\n",
    "                \n",
    "        else:\n",
    "            print(\"Opción inválida\")\n",
    "            \n",
    "    except (ValueError, KeyboardInterrupt):\n",
    "        print(\"Operación cancelada\")\n",
    "\n",
    "# Ejecutar eliminación de imagen\n",
    "eliminar_imagen()"
   ]
  },
  {
   "cell_type": "markdown",
   "id": "5cafd3de",
   "metadata": {},
   "source": [
    "## 8. Menú Principal Interactivo\n",
    "\n",
    "Sistema de menú completo como en main.py. Para ejecutar el menú interactivo, descomente la última línea de la celda siguiente."
   ]
  },
  {
   "cell_type": "code",
   "execution_count": 17,
   "id": "b96f3ba0-ee8c-4aa2-9283-32b65d853823",
   "metadata": {},
   "outputs": [
    {
     "name": "stdout",
     "output_type": "stream",
     "text": [
      "\n",
      "==================================================\n",
      "            MENÚ PRINCIPAL\n",
      "==================================================\n",
      "1. Registrar Nueva Imagen\n",
      "2. Ver Imágenes Registradas\n",
      "3. Modificar Metadatos de Imagen\n",
      "4. Eliminar Imagen\n",
      " extras ------\n",
      "5. Buscar Imágenes\n",
      "6. Cargar Dataset de Zenodo (descargar)\n",
      "7. Salir\n",
      "==================================================\n"
     ]
    },
    {
     "name": "stdout",
     "output_type": "stream",
     "text": [
      "Seleccione una opción (1-7):  1\n"
     ]
    },
    {
     "name": "stdout",
     "output_type": "stream",
     "text": [
      "\n",
      "Ejecutando opción 1...\n",
      "\n",
      "--- Registrar Nueva Imagen ---\n"
     ]
    },
    {
     "name": "stdout",
     "output_type": "stream",
     "text": [
      "Ingrese la ruta del archivo de imagen:  C:\\Users\\EYNAR\\Desktop\\MAESTRAI_IA_MOD1\\data\\test\\TestImage.jpg\n",
      "¿Agregar metadatos personalizados? (s/n):  n\n",
      "¿Cargar datos de píxeles en memoria? (s/n):  n\n"
     ]
    },
    {
     "name": "stderr",
     "output_type": "stream",
     "text": [
      "ERROR:medical_image_manager.utils.file_handler:opencv-python library not available\n"
     ]
    },
    {
     "name": "stdout",
     "output_type": "stream",
     "text": [
      "Error al registrar imagen: Standard image support requires opencv-python library\n",
      "\n",
      "\n",
      "Aplicación interrumpida por el usuario. ¡Hasta luego!\n"
     ]
    },
    {
     "name": "stdout",
     "output_type": "stream",
     "text": [
      "\n",
      "Ejecutando opción 1...\n",
      "Opciones disponibles para registro:\n",
      "1. brain_mri_t1.nii\n",
      "2. chest_ct.dcm\n",
      "3. spine_mri_t2.nii.gz\n"
     ]
    },
    {
     "name": "stdout",
     "output_type": "stream",
     "text": [
      "Seleccione el número de archivo a registrar (1-3):  5\n"
     ]
    },
    {
     "name": "stdout",
     "output_type": "stream",
     "text": [
      "Opción inválida\n"
     ]
    },
    {
     "name": "stdout",
     "output_type": "stream",
     "text": [
      "\n",
      "Presione Enter para continuar... 1\n"
     ]
    },
    {
     "name": "stdout",
     "output_type": "stream",
     "text": [
      "\n",
      "==================================================\n",
      "            MENÚ PRINCIPAL\n",
      "==================================================\n",
      "1. Registrar Nueva Imagen\n",
      "2. Ver Imágenes Registradas\n",
      "3. Modificar Metadatos de Imagen\n",
      "4. Eliminar Imagen\n",
      " extras ------\n",
      "5. Buscar Imágenes\n",
      "6. Cargar Dataset de Zenodo (descargar)\n",
      "7. Salir\n",
      "==================================================\n"
     ]
    },
    {
     "name": "stdout",
     "output_type": "stream",
     "text": [
      "Seleccione una opción (1-7):  1\n"
     ]
    },
    {
     "name": "stdout",
     "output_type": "stream",
     "text": [
      "\n",
      "Ejecutando opción 1...\n",
      "Opciones disponibles para registro:\n",
      "1. brain_mri_t1.nii\n",
      "2. chest_ct.dcm\n",
      "3. spine_mri_t2.nii.gz\n"
     ]
    }
   ],
   "source": [
    "def mostrar_menu():\n",
    "    \"\"\"Mostrar opciones del menú principal.\"\"\"\n",
    "    print(\"\\n\" + \"=\"*50)\n",
    "    print(\"            MENÚ PRINCIPAL\")\n",
    "    print(\"=\"*50)\n",
    "    print(\"1. Registrar Nueva Imagen\")\n",
    "    print(\"2. Ver Imágenes Registradas\")\n",
    "    print(\"3. Modificar Metadatos de Imagen\")\n",
    "    print(\"4. Eliminar Imagen\")\n",
    "    print(\" extras ------\")\n",
    "    print(\"5. Buscar Imágenes\")\n",
    "    print(\"6. Cargar Dataset de Zenodo (descargar)\")\n",
    "    print(\"7. Salir\")\n",
    "    print(\"=\"*50)\n",
    "\n",
    "def ejecutar_menu_principal():\n",
    "    \"\"\"Ejecutar el menú principal del sistema.\"\"\"\n",
    "    \n",
    "    # Mapeo de funciones - igual que main.py\n",
    "    funciones_menu = {\n",
    "        '1': registrar_imagen,\n",
    "        '2': listar_imagenes,\n",
    "        '3': modificar_metadatos,\n",
    "        '4': eliminar_imagen,\n",
    "        '5': buscar_imagenes,\n",
    "        '6': lambda: print(\"Funcionalidad de carga de dataset no implementada en notebook\"),\n",
    "    }\n",
    "    \n",
    "    while True:\n",
    "        try:\n",
    "            mostrar_menu()\n",
    "            opcion = input(\"Seleccione una opción (1-7): \").strip()\n",
    "            \n",
    "            if opcion == '7':\n",
    "                print(\"\\n¡ Gracias Magister !\")\n",
    "                break\n",
    "            \n",
    "            elif opcion in funciones_menu:\n",
    "                print(f\"\\nEjecutando opción {opcion}...\")\n",
    "                funciones_menu[opcion]()\n",
    "                input(\"\\nPresione Enter para continuar...\")\n",
    "                \n",
    "            else:\n",
    "                print(\"Opción inválida. Por favor intente de nuevo.\")\n",
    "                \n",
    "        except KeyboardInterrupt:\n",
    "            print(\"\\n\\nAplicación interrumpida por el usuario. ¡Hasta luego!\")\n",
    "            break\n",
    "        except Exception as e:\n",
    "            print(f\"Error inesperado: {e}\")\n",
    "            print(\"Continuando...\")\n",
    "\n",
    "# Ejecutar el menú principal\n",
    "ejecutar_menu_principal()"
   ]
  },
  {
   "cell_type": "code",
   "execution_count": null,
   "id": "3de084cb-8294-4efc-a81b-f7d8be4ff074",
   "metadata": {},
   "outputs": [],
   "source": []
  }
 ],
 "metadata": {
  "kernelspec": {
   "display_name": "Python 3 (ipykernel)",
   "language": "python",
   "name": "python3"
  },
  "language_info": {
   "codemirror_mode": {
    "name": "ipython",
    "version": 3
   },
   "file_extension": ".py",
   "mimetype": "text/x-python",
   "name": "python",
   "nbconvert_exporter": "python",
   "pygments_lexer": "ipython3",
   "version": "3.13.5"
  }
 },
 "nbformat": 4,
 "nbformat_minor": 5
}
